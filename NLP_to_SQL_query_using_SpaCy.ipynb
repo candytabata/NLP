{
 "cells": [
  {
   "cell_type": "markdown",
   "metadata": {
    "id": "q5naPx2ywJM9"
   },
   "source": [
    "**NLP-Powered SQL Helper**\n",
    "\n",
    "In this notebook I have created a project of an NLP model that helps users construct SQL commands based on natural language queries. For example, a user might type: \"Show me all customers from United Kingdom\" and the code will generate this SQL command: `SELECT * FROM customers WHERE state = 'United Kingdom'; `\n",
    "\n",
    "For extraction, I used [spaCY](https://spacy.io/), a popular NLP library that is efficient, easy to use, and provides pre-trained models, making it suitable for tasks like entity recognition and keyword extraction. \n",
    "\n",
    "**Key Features**:\n",
    "\n",
    "- Accept user inputs in natural language.\n",
    "\n",
    "- Extract important entities such as tables, fields, conditions, etc.\n",
    "\n",
    "- Generate SQL commands based on parsed input."
   ]
  },
  {
   "cell_type": "code",
   "execution_count": 1,
   "metadata": {},
   "outputs": [],
   "source": [
    "# Install spacy if not installed\n",
    "#!pip install spacy --quiet"
   ]
  },
  {
   "cell_type": "markdown",
   "metadata": {
    "id": "uA34HX1k1HHM"
   },
   "source": [
    "## Creating Database:\n",
    "\n",
    "I will be using an SQLite database, because it is lightweight, easy to set up, and doesn't require a server setup. \n",
    "\n",
    "Below are the steps I followed to create and populate my database:\n",
    "\n",
    "1. Downloaded the dataset from a public [repository](https://archive.ics.uci.edu/datasets?skip=0&take=10&sort=desc&orderBy=NumHits&search=Online+Retail), and loaded it to a pandas dataframe.\n",
    "2. Created a connection to an SQLite database, and created a table.\n",
    "3. Inserted the data into the table, verified the insertation by executing a simple SQL command into the database. "
   ]
  },
  {
   "cell_type": "code",
   "execution_count": 2,
   "metadata": {
    "colab": {
     "base_uri": "https://localhost:8080/"
    },
    "id": "-cuCZmXFVmGO",
    "outputId": "0058c020-d551-42a8-c3f0-cab3b32da6ec"
   },
   "outputs": [
    {
     "data": {
      "text/html": [
       "<div>\n",
       "<style scoped>\n",
       "    .dataframe tbody tr th:only-of-type {\n",
       "        vertical-align: middle;\n",
       "    }\n",
       "\n",
       "    .dataframe tbody tr th {\n",
       "        vertical-align: top;\n",
       "    }\n",
       "\n",
       "    .dataframe thead th {\n",
       "        text-align: right;\n",
       "    }\n",
       "</style>\n",
       "<table border=\"1\" class=\"dataframe\">\n",
       "  <thead>\n",
       "    <tr style=\"text-align: right;\">\n",
       "      <th></th>\n",
       "      <th>InvoiceNo</th>\n",
       "      <th>StockCode</th>\n",
       "      <th>Description</th>\n",
       "      <th>Quantity</th>\n",
       "      <th>InvoiceDate</th>\n",
       "      <th>UnitPrice</th>\n",
       "      <th>CustomerID</th>\n",
       "      <th>Country</th>\n",
       "    </tr>\n",
       "  </thead>\n",
       "  <tbody>\n",
       "    <tr>\n",
       "      <th>0</th>\n",
       "      <td>536365</td>\n",
       "      <td>85123A</td>\n",
       "      <td>WHITE HANGING HEART T-LIGHT HOLDER</td>\n",
       "      <td>6</td>\n",
       "      <td>2010-12-01 08:26:00</td>\n",
       "      <td>2.55</td>\n",
       "      <td>17850.0</td>\n",
       "      <td>United Kingdom</td>\n",
       "    </tr>\n",
       "    <tr>\n",
       "      <th>1</th>\n",
       "      <td>536365</td>\n",
       "      <td>71053</td>\n",
       "      <td>WHITE METAL LANTERN</td>\n",
       "      <td>6</td>\n",
       "      <td>2010-12-01 08:26:00</td>\n",
       "      <td>3.39</td>\n",
       "      <td>17850.0</td>\n",
       "      <td>United Kingdom</td>\n",
       "    </tr>\n",
       "    <tr>\n",
       "      <th>2</th>\n",
       "      <td>536365</td>\n",
       "      <td>84406B</td>\n",
       "      <td>CREAM CUPID HEARTS COAT HANGER</td>\n",
       "      <td>8</td>\n",
       "      <td>2010-12-01 08:26:00</td>\n",
       "      <td>2.75</td>\n",
       "      <td>17850.0</td>\n",
       "      <td>United Kingdom</td>\n",
       "    </tr>\n",
       "    <tr>\n",
       "      <th>3</th>\n",
       "      <td>536365</td>\n",
       "      <td>84029G</td>\n",
       "      <td>KNITTED UNION FLAG HOT WATER BOTTLE</td>\n",
       "      <td>6</td>\n",
       "      <td>2010-12-01 08:26:00</td>\n",
       "      <td>3.39</td>\n",
       "      <td>17850.0</td>\n",
       "      <td>United Kingdom</td>\n",
       "    </tr>\n",
       "    <tr>\n",
       "      <th>4</th>\n",
       "      <td>536365</td>\n",
       "      <td>84029E</td>\n",
       "      <td>RED WOOLLY HOTTIE WHITE HEART.</td>\n",
       "      <td>6</td>\n",
       "      <td>2010-12-01 08:26:00</td>\n",
       "      <td>3.39</td>\n",
       "      <td>17850.0</td>\n",
       "      <td>United Kingdom</td>\n",
       "    </tr>\n",
       "  </tbody>\n",
       "</table>\n",
       "</div>"
      ],
      "text/plain": [
       "  InvoiceNo StockCode                          Description  Quantity  \\\n",
       "0    536365    85123A   WHITE HANGING HEART T-LIGHT HOLDER         6   \n",
       "1    536365     71053                  WHITE METAL LANTERN         6   \n",
       "2    536365    84406B       CREAM CUPID HEARTS COAT HANGER         8   \n",
       "3    536365    84029G  KNITTED UNION FLAG HOT WATER BOTTLE         6   \n",
       "4    536365    84029E       RED WOOLLY HOTTIE WHITE HEART.         6   \n",
       "\n",
       "          InvoiceDate  UnitPrice  CustomerID         Country  \n",
       "0 2010-12-01 08:26:00       2.55     17850.0  United Kingdom  \n",
       "1 2010-12-01 08:26:00       3.39     17850.0  United Kingdom  \n",
       "2 2010-12-01 08:26:00       2.75     17850.0  United Kingdom  \n",
       "3 2010-12-01 08:26:00       3.39     17850.0  United Kingdom  \n",
       "4 2010-12-01 08:26:00       3.39     17850.0  United Kingdom  "
      ]
     },
     "execution_count": 2,
     "metadata": {},
     "output_type": "execute_result"
    }
   ],
   "source": [
    "import sqlite3\n",
    "import pandas as pd\n",
    "import urllib.request\n",
    "import zipfile\n",
    "\n",
    "# Downloading a public dataset and loading the dataset using pandas\n",
    "url = \"https://archive.ics.uci.edu/ml/machine-learning-databases/00352/Online%20Retail.xlsx\"\n",
    "file_path = \"Online_Retail.xlsx\"\n",
    "urllib.request.urlretrieve(url, file_path)\n",
    "\n",
    "df = pd.read_excel(file_path)\n",
    "df.head(5)  # Viewing the first 5 rows in table format"
   ]
  },
  {
   "cell_type": "code",
   "execution_count": 3,
   "metadata": {},
   "outputs": [
    {
     "name": "stdout",
     "output_type": "stream",
     "text": [
      "('536365', '85123A', 'WHITE HANGING HEART T-LIGHT HOLDER', 6, '2010-12-01 08:26:00', 2.55, 17850.0, 'United Kingdom')\n",
      "('536365', '71053', 'WHITE METAL LANTERN', 6, '2010-12-01 08:26:00', 3.39, 17850.0, 'United Kingdom')\n",
      "('536365', '84406B', 'CREAM CUPID HEARTS COAT HANGER', 8, '2010-12-01 08:26:00', 2.75, 17850.0, 'United Kingdom')\n",
      "('536365', '84029G', 'KNITTED UNION FLAG HOT WATER BOTTLE', 6, '2010-12-01 08:26:00', 3.39, 17850.0, 'United Kingdom')\n",
      "('536365', '84029E', 'RED WOOLLY HOTTIE WHITE HEART.', 6, '2010-12-01 08:26:00', 3.39, 17850.0, 'United Kingdom')\n"
     ]
    }
   ],
   "source": [
    "# Creating a connection to SQLite database and a table\n",
    "conn = sqlite3.connect('retail_data.db')\n",
    "cursor = conn.cursor()\n",
    "\n",
    "cursor.execute('''\n",
    "    CREATE TABLE IF NOT EXISTS retail (\n",
    "        InvoiceNo TEXT,\n",
    "        StockCode TEXT,\n",
    "        Description TEXT,\n",
    "        Quantity INTEGER,\n",
    "        InvoiceDate TEXT,\n",
    "        UnitPrice REAL,\n",
    "        CustomerID TEXT,\n",
    "        Country TEXT\n",
    "    )\n",
    "''')\n",
    "\n",
    "# Inserting data into the table and verify data insertion\n",
    "df.to_sql('retail', conn, if_exists='replace', index=False)\n",
    "\n",
    "cursor.execute(\"SELECT * FROM retail LIMIT 5\")\n",
    "rows = cursor.fetchall()\n",
    "for row in rows:\n",
    "    print(row)\n",
    "\n",
    "conn.close()"
   ]
  },
  {
   "cell_type": "markdown",
   "metadata": {
    "id": "xXo-TWpxPedE"
   },
   "source": [
    "## Text extraction using NLP"
   ]
  },
  {
   "cell_type": "markdown",
   "metadata": {
    "id": "_J8pq-15_NiE"
   },
   "source": [
    "**How I'm using spaCy in this context?**\n",
    "\n",
    "- Let's say I want to write an SQL command for the table created above that will display all the customers from the United Kingdom who made purchases from the online retail store.\n",
    "\n",
    "- First, I load an English NLP model from spaCy and define my query as ```user_query = Show me all customers from United Kingdom```. I then process the query using the loaded model: ```doc = nlp(user_query)```.  \n",
    "\n",
    "- Next, I extract entities and keywords from the processed query. Below, I've shared an example of the code I used to extract the data and explained what each output represents:\n",
    "\n",
    "    - ```Token: Show, POS: VERB, Dependency: ROOT```: \"Show\" is identified as a verb (POS: Part of Speech), and it's the root of the sentence, meaning it's the main action.\n",
    "    - ```Token: me, POS: PRON, Dependency: dative```: \"Me\" is a pronoun, and it has a \"dative\" dependency, meaning it’s the indirect object of the verb.\n",
    "    - ```Token: all, POS: DET, Dependency: det```: \"All\" is a determiner, specifying the noun \"customers\".\n",
    "    - ```Token: customers, POS: NOUN, Dependency: dobj```: \"Customers\" is a noun and is the direct object (dobj) of the action (\"Show\").\n",
    "    - ```Token: from, POS: ADP, Dependency: prep```: \"From\" is an adposition (typically a preposition), indicating a relation between \"customers\" and a location.\n",
    "    - ```Token: United Kingdom, POS: PROPN, Dependency: pobj```: \"United Kingdom\" is a proper noun and is the object of the preposition \"from\".\n",
    "\n",
    "- I can also extract specific entities, such as a [named entity](https://spacy.io/usage/spacy-101#annotations-ner), which refers to “real-world objects” that are assigned a name, for example, places or countries. The results will be as follows:\n",
    "\n",
    "\n",
    "\n",
    "  - ```Entity: United Kingdom, Label: GPE```: \"United Kingdom\" is recognized as a Geopolitical Entity (GPE), which means it represents a location such as a country, city, or state.\n",
    "\n",
    "\n",
    "Below is an example of the code I executed for this scenario and the corresponding results:"
   ]
  },
  {
   "cell_type": "code",
   "execution_count": 4,
   "metadata": {
    "colab": {
     "base_uri": "https://localhost:8080/"
    },
    "id": "qAJQ3gYyOquF",
    "outputId": "9f702618-4673-4c85-92ec-ecad2c01a576"
   },
   "outputs": [
    {
     "name": "stdout",
     "output_type": "stream",
     "text": [
      "Token: Show, POS: VERB, Dependency: ROOT\n",
      "Token: me, POS: PRON, Dependency: dative\n",
      "Token: all, POS: DET, Dependency: det\n",
      "Token: customers, POS: NOUN, Dependency: dobj\n",
      "Token: from, POS: ADP, Dependency: prep\n",
      "Token: United, POS: PROPN, Dependency: compound\n",
      "Token: Kingdom, POS: PROPN, Dependency: pobj\n",
      "\n",
      "Entity: United Kingdom, Label: GPE\n"
     ]
    }
   ],
   "source": [
    "import spacy\n",
    "\n",
    "# Loading the model\n",
    "nlp = spacy.load('en_core_web_sm')\n",
    "\n",
    "# Defining and processing the user_query\n",
    "user_query = \"Show me all customers from United Kingdom\"\n",
    "doc = nlp(user_query)\n",
    "\n",
    "# Extracting the entities and keywords\n",
    "for token in doc:\n",
    "    print(f\"Token: {token.text}, POS: {token.pos_}, Dependency: {token.dep_}\")\n",
    "\n",
    "# Extracting specific entities like nouns\n",
    "for ent in doc.ents:\n",
    "    print(f\"\\nEntity: {ent.text}, Label: {ent.label_}\")"
   ]
  },
  {
   "cell_type": "markdown",
   "metadata": {
    "id": "knIg6GX3OnkC"
   },
   "source": [
    "#### Code\n",
    "Below is a function that will construct and return an SQL command based on a user_query with optional conditions:"
   ]
  },
  {
   "cell_type": "code",
   "execution_count": 5,
   "metadata": {
    "colab": {
     "base_uri": "https://localhost:8080/"
    },
    "id": "lvbQUeU-EIBq",
    "outputId": "82078060-ae8b-4d92-9a56-a8511c2869a1"
   },
   "outputs": [],
   "source": [
    "import spacy\n",
    "\n",
    "def generate_sql_query(user_query):\n",
    "    nlp = spacy.load('en_core_web_sm')\n",
    "    doc = nlp(user_query)\n",
    "\n",
    "    table = \"retail\"\n",
    "    columns = []\n",
    "    conditions = []\n",
    "\n",
    "    field_mapping = {\n",
    "        \"customer\": \"CustomerID\",\n",
    "        \"date\": \"Date\",\n",
    "        \"description\": \"Description\",\n",
    "        \"item\": \"Quantity\",\n",
    "        \"invoice\": \"InvoiceNo\"\n",
    "    }\n",
    "\n",
    "    # Extracting entities and keywords as conditions\n",
    "    for ent in doc.ents:\n",
    "        if ent.label_ == \"GPE\":  # Geographical location \n",
    "            conditions.append(f\"Country = '{ent.text}'\")\n",
    "        elif ent.label_ == \"CARDINAL\":  # Extracts quantity\n",
    "            conditions.append(f\"Quantity >= {ent.text}\")\n",
    "        elif ent.label_ == \"PERSON\":  # Extracts customerID\n",
    "            conditions.append(f\"CustomerID = '{ent.text}'\")\n",
    "        elif ent.label_ == \"DATE\":  # Extracts dates, but since spaCy recognises InvoiceNo as Date, so it is handled separately\n",
    "            if \"InvoiceNo\" in user_query or ent.text.isdigit():\n",
    "                conditions.append(f\"InvoiceNo = '{ent.text}'\")\n",
    "            else:\n",
    "                conditions.append(f\"Date = '{ent.text}'\")\n",
    "    \n",
    "    # Extracting tokens and checking whether the token is an adjective describing/modifying a noun\n",
    "\n",
    "    for token in doc:\n",
    "        if token.dep_ == \"amod\" and token.head.pos_ == \"NOUN\":\n",
    "            columns.append(token.head.text)\n",
    "        elif token.text.lower() in field_mapping:\n",
    "            columns.append(field_mapping[token.text.lower()])\n",
    "        elif token.dep_ == \"nummod\" and token.head.text.lower() in field_mapping:\n",
    "            conditions.append(f\"{field_mapping[token.head.text.lower()]} = {token.text}\")\n",
    "        elif token.dep_ == \"pobj\" and token.head.text.lower() == \"description\":\n",
    "            conditions.append(f\"Description LIKE '%{token.text}%'\")\n",
    "        elif token.dep_ == \"pobj\" and token.head.text.lower() == \"customer\":\n",
    "            conditions.append(f\"CustomerID = '{token.text}'\")\n",
    "\n",
    "    # Constructing the SQL query\n",
    "    columns_str = ', '.join(columns) if columns else '*'\n",
    "    query = f\"SELECT {columns_str} FROM {table}\"\n",
    "    if conditions:\n",
    "        query += \" WHERE \" + \" AND \".join(conditions)\n",
    "    query += \" LIMIT 5\"  # Setting the limit to 5, for demo purposes\n",
    "\n",
    "    return query"
   ]
  },
  {
   "cell_type": "markdown",
   "metadata": {
    "id": "qdfF7wObYNe5"
   },
   "source": [
    "Below I have tested the function with my database:"
   ]
  },
  {
   "cell_type": "code",
   "execution_count": 6,
   "metadata": {
    "colab": {
     "base_uri": "https://localhost:8080/"
    },
    "id": "PmqPFM6IYTEM",
    "outputId": "bdf31d1c-ca4e-4a0e-d513-0e861c1852e4"
   },
   "outputs": [],
   "source": [
    "# Example usage with SQLite database\n",
    "def execute_sql_query(user_query):\n",
    "\n",
    "    sql_query = generate_sql_query(user_query)\n",
    "    print(f\"Generated SQL Query: {sql_query}\\n\")\n",
    "\n",
    "    # Connect to the SQLite database\n",
    "    conn = sqlite3.connect('retail_data.db')\n",
    "    cursor = conn.cursor()\n",
    "\n",
    "    # Execute the generated SQL query\n",
    "    try:\n",
    "        cursor.execute(sql_query)\n",
    "        rows = cursor.fetchall()\n",
    "        for row in rows:\n",
    "            print(row)\n",
    "    except sqlite3.Error as e:\n",
    "        print(f\"An error occurred: {e}\")\n",
    "\n",
    "    # Close the connection\n",
    "    conn.close()"
   ]
  },
  {
   "cell_type": "markdown",
   "metadata": {},
   "source": [
    "Testing the above conditions"
   ]
  },
  {
   "cell_type": "code",
   "execution_count": 7,
   "metadata": {
    "id": "Ofeg6IPhxyqm"
   },
   "outputs": [
    {
     "name": "stdout",
     "output_type": "stream",
     "text": [
      "Generated SQL Query: SELECT * FROM retail WHERE Country = 'United Kingdom' AND Quantity >= 50 LIMIT 5\n",
      "\n",
      "('536371', '22086', \"PAPER CHAIN KIT 50'S CHRISTMAS \", 80, '2010-12-01 09:00:00', 2.55, 13748.0, 'United Kingdom')\n",
      "('536376', '21733', 'RED HANGING HEART T-LIGHT HOLDER', 64, '2010-12-01 09:32:00', 2.55, 15291.0, 'United Kingdom')\n",
      "('536378', '21212', 'PACK OF 72 RETROSPOT CAKE CASES', 120, '2010-12-01 09:37:00', 0.42, 14688.0, 'United Kingdom')\n",
      "('536378', '85071B', 'RED CHARLIE+LOLA PERSONAL DOORSIGN', 96, '2010-12-01 09:37:00', 0.38, 14688.0, 'United Kingdom')\n",
      "('536382', '22381', 'TOY TIDY PINK POLKADOT', 50, '2010-12-01 09:45:00', 1.85, 16098.0, 'United Kingdom')\n"
     ]
    }
   ],
   "source": [
    "user_query_1 = \"Show customers from United Kingdom who bought 50 or more items\"\n",
    "execute_sql_query(user_query_1)"
   ]
  },
  {
   "cell_type": "code",
   "execution_count": 8,
   "metadata": {},
   "outputs": [
    {
     "name": "stdout",
     "output_type": "stream",
     "text": [
      "Generated SQL Query: SELECT Description FROM retail WHERE InvoiceNo = '536365' LIMIT 5\n",
      "\n",
      "('WHITE HANGING HEART T-LIGHT HOLDER',)\n",
      "('WHITE METAL LANTERN',)\n",
      "('CREAM CUPID HEARTS COAT HANGER',)\n",
      "('KNITTED UNION FLAG HOT WATER BOTTLE',)\n",
      "('RED WOOLLY HOTTIE WHITE HEART.',)\n"
     ]
    }
   ],
   "source": [
    "user_query_2 = \"Show the description where InvoiceNo is 536365\"\n",
    "execute_sql_query(user_query_2)"
   ]
  },
  {
   "cell_type": "markdown",
   "metadata": {},
   "source": [
    "## Conclusion\n",
    "\n",
    "Using a pretrained spaCy model for an NLP task, such as generating SQL queries from user input works well for basic tasks like identifying countries. However, as shown in this example:\n",
    "\n",
    "```\n",
    "user_query = \"Show items on invoice 536365 \"\n",
    "-----------\n",
    "\n",
    "> Token: Show, POS: VERB, Dependency: ROOT\n",
    "Token: items, POS: NOUN, Dependency: dobj\n",
    "Token: on, POS: ADP, Dependency: prep\n",
    "Token: invoice, POS: NOUN, Dependency: pobj\n",
    "Token: 536365, POS: NUM, Dependency: nummod\n",
    "\n",
    "Entity: 536365, Label: DATE\n",
    "```\n",
    "\n",
    "There are limitations. In this case, the model mistakenly treated the InvoiceNo as a DATE entity instead of a CARDINAL. This happens because spaCy struggles to understand the context in complex queries and can misinterpret numbers. As such, using a pretrained spaCy model for such use-cases is not efficient. \n",
    "\n",
    "Lastly, I will share the transformer-based code soon, which I will use to try and solve more complex queries. "
   ]
  },
  {
   "cell_type": "code",
   "execution_count": null,
   "metadata": {},
   "outputs": [],
   "source": []
  }
 ],
 "metadata": {
  "accelerator": "GPU",
  "colab": {
   "gpuType": "T4",
   "provenance": []
  },
  "kernelspec": {
   "display_name": "Python (github)",
   "language": "python",
   "name": "github"
  },
  "language_info": {
   "codemirror_mode": {
    "name": "ipython",
    "version": 3
   },
   "file_extension": ".py",
   "mimetype": "text/x-python",
   "name": "python",
   "nbconvert_exporter": "python",
   "pygments_lexer": "ipython3",
   "version": "3.10.0"
  }
 },
 "nbformat": 4,
 "nbformat_minor": 4
}
